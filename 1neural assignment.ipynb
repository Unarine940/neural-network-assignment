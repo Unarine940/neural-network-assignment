{
 "cells": [
  {
   "cell_type": "code",
   "execution_count": 182,
   "metadata": {},
   "outputs": [],
   "source": [
    "import numpy as np\n",
    "import matplotlib.pyplot as plt\n",
    "from sklearn.preprocessing import scale\n",
    "import pandas as pd\n",
    "from sklearn.model_selection import train_test_split"
   ]
  },
  {
   "cell_type": "code",
   "execution_count": 183,
   "metadata": {},
   "outputs": [],
   "source": [
    "df = pd.read_csv('weightdataset.csv',sep=';')"
   ]
  },
  {
   "cell_type": "code",
   "execution_count": 184,
   "metadata": {},
   "outputs": [],
   "source": [
    "x = scale(df.Weight) \n",
    "y = scale(df.Height)"
   ]
  },
  {
   "cell_type": "code",
   "execution_count": 185,
   "metadata": {},
   "outputs": [],
   "source": [
    "W = np.random.random(2)"
   ]
  },
  {
   "cell_type": "code",
   "execution_count": 186,
   "metadata": {},
   "outputs": [],
   "source": [
    "x_train,x_test,y_train,y_test = train_test_split(x,y,train_size=0.7,test_size=0.3)"
   ]
  },
  {
   "cell_type": "code",
   "execution_count": 187,
   "metadata": {},
   "outputs": [],
   "source": [
    "n = len(x)\n",
    "X = np.c_[np.ones(n),x]\n",
    "def X_traine(x_train):\n",
    "    n = len(x)\n",
    "    X_train = np.c_[np.ones(n),x_train]\n",
    "    return X_train\n",
    "\n",
    "def X_teste(x_test):\n",
    "    n = len(x)\n",
    "    X_test = np.c_[np.ones(n),x_test]\n",
    "    return X_test\n",
    "u11 = X_train.dot(W) \n",
    "o11 = (1/(1 + np.exp(X_train))) "
   ]
  },
  {
   "cell_type": "code",
   "execution_count": 188,
   "metadata": {},
   "outputs": [],
   "source": [
    "derivative = ((1/(1 + np.exp(-X_test*W)))*(1/(1 + np.exp(-X_test*W))) * -X_test)"
   ]
  },
  {
   "cell_type": "code",
   "execution_count": 189,
   "metadata": {},
   "outputs": [],
   "source": [
    "Epochs = 1000\n",
    "lr = 0.001\n",
    "y_pred = (1/(1 + np.exp(-X_test)))\n",
    "\n",
    "def gradientdescent(X_i,x,w,y_pred,Epochs,derivative,lr):\n",
    "    c = []\n",
    "    b = []\n",
    "    a = 0\n",
    "    n = len(x)\n",
    "    \n",
    "    for i in range(Epochs):\n",
    "        X_i = X_i.reshape(len(X_i),1)\n",
    "        a = -np.sum((X_i *np.log(w) + (1 - X_i)*np.log(1 - w)))\n",
    "        c.append(a)\n",
    "        w = w - (lr*(1/n)*sum(y_pred - X_i))\n",
    "        b.append(w)\n",
    "        \n",
    "    return(c, b)\n"
   ]
  },
  {
   "cell_type": "code",
   "execution_count": 190,
   "metadata": {},
   "outputs": [
    {
     "name": "stderr",
     "output_type": "stream",
     "text": [
      "C:\\Users\\Unarine\\Anaconda3\\lib\\site-packages\\ipykernel_launcher.py:13: RuntimeWarning: invalid value encountered in log\n",
      "  del sys.path[0]\n"
     ]
    }
   ],
   "source": [
    "MSE,updated_b = gradientdescent(y_test,y_pred,W,X_test,Epochs,derivative,lr)\n",
    "b = updated_b[-1] "
   ]
  },
  {
   "cell_type": "code",
   "execution_count": 191,
   "metadata": {},
   "outputs": [
    {
     "data": {
      "image/png": "[encoded data removed]",
      "text/plain": [
       "<Figure size 432x288 with 1 Axes>"
      ]
     },
     "metadata": {
      "needs_background": "light"
     },
     "output_type": "display_data"
    }
   ],
   "source": [
    "plt.plot(MSE)\n",
    "plt.title('Neural Networks')\n",
    "plt.ylabel('Cost Function')\n",
    "plt.xlabel('Iterations')\n",
    "plt.show()"
   ]
  },
  {
   "cell_type": "code",
   "execution_count": null,
   "metadata": {},
   "outputs": [],
   "source": []
  }
 ],
 "metadata": {
  "kernelspec": {
   "display_name": "Python 3",
   "language": "python",
   "name": "python3"
  },
  "language_info": {
   "codemirror_mode": {
    "name": "ipython",
    "version": 3
   },
   "file_extension": ".py",
   "mimetype": "text/x-python",
   "name": "python",
   "nbconvert_exporter": "python",
   "pygments_lexer": "ipython3",
   "version": "3.7.4"
  }
 },
 "nbformat": 4,
 "nbformat_minor": 2
}
